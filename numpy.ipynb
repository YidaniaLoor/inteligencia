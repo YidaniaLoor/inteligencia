{
  "nbformat": 4,
  "nbformat_minor": 0,
  "metadata": {
    "colab": {
      "provenance": [],
      "authorship_tag": "ABX9TyNf0Hgr1pmF1nmnJInPv7pE",
      "include_colab_link": true
    },
    "kernelspec": {
      "name": "python3",
      "display_name": "Python 3"
    },
    "language_info": {
      "name": "python"
    }
  },
  "cells": [
    {
      "cell_type": "markdown",
      "metadata": {
        "id": "view-in-github",
        "colab_type": "text"
      },
      "source": [
        "<a href=\"https://colab.research.google.com/github/YidaniaLoor/inteligencia/blob/main/numpy.ipynb\" target=\"_parent\"><img src=\"https://colab.research.google.com/assets/colab-badge.svg\" alt=\"Open In Colab\"/></a>"
      ]
    },
    {
      "cell_type": "markdown",
      "source": [
        "Importe numpy como np y vea la versión"
      ],
      "metadata": {
        "id": "NDcSyQoZTlkW"
      }
    },
    {
      "cell_type": "code",
      "execution_count": 1,
      "metadata": {
        "colab": {
          "base_uri": "https://localhost:8080/",
          "height": 36
        },
        "id": "1ZlxWuApTf3v",
        "outputId": "73ae96ee-bb66-43bd-f40a-cb3b78968915"
      },
      "outputs": [
        {
          "output_type": "execute_result",
          "data": {
            "text/plain": [
              "'1.22.4'"
            ],
            "application/vnd.google.colaboratory.intrinsic+json": {
              "type": "string"
            }
          },
          "metadata": {},
          "execution_count": 1
        }
      ],
      "source": [
        "import numpy as np\n",
        "np. __version__"
      ]
    },
    {
      "cell_type": "markdown",
      "source": [
        "Crear una matriz 1D de números del 0 al 9"
      ],
      "metadata": {
        "id": "kQiKdpMWT0XJ"
      }
    },
    {
      "cell_type": "code",
      "source": [
        "array = np.array([1, 2, 3, 4, 5, 6, 7, 8, 9])\n",
        "print(array)"
      ],
      "metadata": {
        "colab": {
          "base_uri": "https://localhost:8080/"
        },
        "id": "jqYberNHT1gw",
        "outputId": "70b8f2ba-7710-4e39-8818-e9691641ccb0"
      },
      "execution_count": 2,
      "outputs": [
        {
          "output_type": "stream",
          "name": "stdout",
          "text": [
            "[1 2 3 4 5 6 7 8 9]\n"
          ]
        }
      ]
    },
    {
      "cell_type": "markdown",
      "source": [
        "Cree una matriz numpy de 3 × 3 de todos los True"
      ],
      "metadata": {
        "id": "bepepDR-UAfW"
      }
    },
    {
      "cell_type": "code",
      "source": [
        "array = np.ones((3, 3), dtype=bool)\n",
        "print(array)"
      ],
      "metadata": {
        "colab": {
          "base_uri": "https://localhost:8080/"
        },
        "id": "-OflOWloUBSz",
        "outputId": "3c68b70c-afa4-4d6d-bbf2-7c92f88dfc95"
      },
      "execution_count": 6,
      "outputs": [
        {
          "output_type": "stream",
          "name": "stdout",
          "text": [
            "[[ True  True  True]\n",
            " [ True  True  True]\n",
            " [ True  True  True]]\n"
          ]
        }
      ]
    },
    {
      "cell_type": "markdown",
      "source": [
        "Extrae todos los números impares de la matriz"
      ],
      "metadata": {
        "id": "laYwhy8FUU5H"
      }
    },
    {
      "cell_type": "code",
      "source": [
        "odd_numbers = array[array % 2 !=0]\n",
        "print(odd_numbers)"
      ],
      "metadata": {
        "colab": {
          "base_uri": "https://localhost:8080/"
        },
        "id": "jT-V67F_UWAP",
        "outputId": "e061a127-3a97-4b44-f274-f1bc551f6323"
      },
      "execution_count": 8,
      "outputs": [
        {
          "output_type": "stream",
          "name": "stdout",
          "text": [
            "[ True  True  True  True  True  True  True  True  True]\n"
          ]
        }
      ]
    },
    {
      "cell_type": "markdown",
      "source": [
        "Reemplace todos los números impares en la matriz con -1"
      ],
      "metadata": {
        "id": "qp_upFwgUhOA"
      }
    },
    {
      "cell_type": "code",
      "source": [
        "array[array % 2 != 0] = -1\n",
        "print(array)"
      ],
      "metadata": {
        "colab": {
          "base_uri": "https://localhost:8080/"
        },
        "id": "pqPkNGWcUsHT",
        "outputId": "746060b7-8161-4db5-8b30-d708d1d9fb33"
      },
      "execution_count": 9,
      "outputs": [
        {
          "output_type": "stream",
          "name": "stdout",
          "text": [
            "[[ True  True  True]\n",
            " [ True  True  True]\n",
            " [ True  True  True]]\n"
          ]
        }
      ]
    },
    {
      "cell_type": "markdown",
      "source": [
        "Convierta una matriz 1D en una matriz 2D con 2 filas"
      ],
      "metadata": {
        "id": "icNeaKd2U5ZE"
      }
    },
    {
      "cell_type": "code",
      "source": [
        "matriz1d= np.array([1, 2, 3, 4, 5, 6, 7, 8, 9, 10])\n",
        "matriz2d = matriz1d.reshape(2, -1)\n",
        "print(matriz2d)"
      ],
      "metadata": {
        "colab": {
          "base_uri": "https://localhost:8080/"
        },
        "id": "TYcFKJ9iU9RN",
        "outputId": "ed262fcf-604b-452d-96bc-0f57c719b2d8"
      },
      "execution_count": 10,
      "outputs": [
        {
          "output_type": "stream",
          "name": "stdout",
          "text": [
            "[[ 1  2  3  4  5]\n",
            " [ 6  7  8  9 10]]\n"
          ]
        }
      ]
    },
    {
      "cell_type": "markdown",
      "source": [
        "Apilar matrices a y b verticalmente"
      ],
      "metadata": {
        "id": "UzrFLXFbVBE5"
      }
    },
    {
      "cell_type": "code",
      "source": [
        "A = np.array([1, 2, 3, 4, 5])\n",
        "B = np.array([6, 7, 8, 9, 10])\n",
        "\n",
        "stacked = np.vstack((A, B))\n",
        "print(stacked)"
      ],
      "metadata": {
        "colab": {
          "base_uri": "https://localhost:8080/"
        },
        "id": "VpUltSQkVC3o",
        "outputId": "d9627c77-4af4-4bef-ef58-2a37a55369d6"
      },
      "execution_count": 11,
      "outputs": [
        {
          "output_type": "stream",
          "name": "stdout",
          "text": [
            "[[ 1  2  3  4  5]\n",
            " [ 6  7  8  9 10]]\n"
          ]
        }
      ]
    },
    {
      "cell_type": "markdown",
      "source": [
        "Apila las matrices a y b horizontalmente"
      ],
      "metadata": {
        "id": "u_W1IwZdVKcS"
      }
    },
    {
      "cell_type": "code",
      "source": [
        "A = np.array([1, 2, 3, 4, 5])\n",
        "B = np.array([6, 7, 8, 9, 10])\n",
        "\n",
        "stacked = np.hstack((A, B))\n",
        "print(stacked)"
      ],
      "metadata": {
        "colab": {
          "base_uri": "https://localhost:8080/"
        },
        "id": "pvpY0wQgVOzY",
        "outputId": "14e75671-eef4-4541-bb61-ba51463b3521"
      },
      "execution_count": 12,
      "outputs": [
        {
          "output_type": "stream",
          "name": "stdout",
          "text": [
            "[ 1  2  3  4  5  6  7  8  9 10]\n"
          ]
        }
      ]
    },
    {
      "cell_type": "markdown",
      "source": [
        "Obtenga todos los artículos entre 5 y 10 de a."
      ],
      "metadata": {
        "id": "ikh1psCgVTvc"
      }
    },
    {
      "cell_type": "code",
      "source": [
        "a = np.arange(15)\n",
        "print(a[5:11])"
      ],
      "metadata": {
        "colab": {
          "base_uri": "https://localhost:8080/"
        },
        "id": "xnGN4PiQVUm9",
        "outputId": "9e63b856-a986-48c6-da86-cd2784cb240f"
      },
      "execution_count": 13,
      "outputs": [
        {
          "output_type": "stream",
          "name": "stdout",
          "text": [
            "[ 5  6  7  8  9 10]\n"
          ]
        }
      ]
    },
    {
      "cell_type": "markdown",
      "source": [
        "¿Cómo hacer una función de python que maneje escalares para trabajar en matrices numpy?"
      ],
      "metadata": {
        "id": "tEX2XLekVid_"
      }
    },
    {
      "cell_type": "code",
      "source": [
        "def suma_escalar(matriz, escalar):\n",
        "    resultado = np.add(matriz, escalar)\n",
        "    return resultado\n",
        "    a = np.array([5, 7, 9, 8, 6, 4, 5])\n",
        "    b = np.array([6, 3, 4, 8, 9, 7, 1])\n",
        "\n",
        "resultado= suma_escalar(a, b)\n",
        "print(resultado)"
      ],
      "metadata": {
        "colab": {
          "base_uri": "https://localhost:8080/",
          "height": 217
        },
        "id": "yc1WJ5HuVjix",
        "outputId": "586d83c4-1f92-4876-f81e-3b93467ec44a"
      },
      "execution_count": 18,
      "outputs": [
        {
          "output_type": "error",
          "ename": "NameError",
          "evalue": "ignored",
          "traceback": [
            "\u001b[0;31m---------------------------------------------------------------------------\u001b[0m",
            "\u001b[0;31mNameError\u001b[0m                                 Traceback (most recent call last)",
            "\u001b[0;32m<ipython-input-18-bf66da14e546>\u001b[0m in \u001b[0;36m<cell line: 7>\u001b[0;34m()\u001b[0m\n\u001b[1;32m      5\u001b[0m     \u001b[0mb\u001b[0m \u001b[0;34m=\u001b[0m \u001b[0mnp\u001b[0m\u001b[0;34m.\u001b[0m\u001b[0marray\u001b[0m\u001b[0;34m(\u001b[0m\u001b[0;34m[\u001b[0m\u001b[0;36m6\u001b[0m\u001b[0;34m,\u001b[0m \u001b[0;36m3\u001b[0m\u001b[0;34m,\u001b[0m \u001b[0;36m4\u001b[0m\u001b[0;34m,\u001b[0m \u001b[0;36m8\u001b[0m\u001b[0;34m,\u001b[0m \u001b[0;36m9\u001b[0m\u001b[0;34m,\u001b[0m \u001b[0;36m7\u001b[0m\u001b[0;34m,\u001b[0m \u001b[0;36m1\u001b[0m\u001b[0;34m]\u001b[0m\u001b[0;34m)\u001b[0m\u001b[0;34m\u001b[0m\u001b[0;34m\u001b[0m\u001b[0m\n\u001b[1;32m      6\u001b[0m \u001b[0;34m\u001b[0m\u001b[0m\n\u001b[0;32m----> 7\u001b[0;31m \u001b[0mresultado\u001b[0m\u001b[0;34m=\u001b[0m \u001b[0msuma_escalar\u001b[0m\u001b[0;34m(\u001b[0m\u001b[0ma\u001b[0m\u001b[0;34m,\u001b[0m \u001b[0mb\u001b[0m\u001b[0;34m)\u001b[0m\u001b[0;34m\u001b[0m\u001b[0;34m\u001b[0m\u001b[0m\n\u001b[0m\u001b[1;32m      8\u001b[0m \u001b[0mprint\u001b[0m\u001b[0;34m(\u001b[0m\u001b[0mresultado\u001b[0m\u001b[0;34m)\u001b[0m\u001b[0;34m\u001b[0m\u001b[0;34m\u001b[0m\u001b[0m\n",
            "\u001b[0;31mNameError\u001b[0m: name 'b' is not defined"
          ]
        }
      ]
    },
    {
      "cell_type": "markdown",
      "source": [
        "Intercambiar las columnas 1 y 2 en la matriz"
      ],
      "metadata": {
        "id": "1hLCynfQV5jI"
      }
    },
    {
      "cell_type": "code",
      "source": [
        "matriz = np.array([[4, 5, 1], [2, 3, 7], [6, 8, 9]])\n",
        "matriz[:, [1, 2]] = matriz[:, [2, 1]]\n",
        "print(matriz)"
      ],
      "metadata": {
        "colab": {
          "base_uri": "https://localhost:8080/"
        },
        "id": "NE73ZF8KXVer",
        "outputId": "da8cb498-276b-49e9-b62d-79457677664c"
      },
      "execution_count": 19,
      "outputs": [
        {
          "output_type": "stream",
          "name": "stdout",
          "text": [
            "[[4 1 5]\n",
            " [2 7 3]\n",
            " [6 9 8]]\n"
          ]
        }
      ]
    },
    {
      "cell_type": "markdown",
      "source": [
        "Cree una matriz 2D de forma 5x3 para contener números decimales aleatorios entre 5 y 10."
      ],
      "metadata": {
        "id": "HPO1rJR1Xoqq"
      }
    },
    {
      "cell_type": "code",
      "source": [
        "matriz = np.random.uniform(5, 10, size=(5, 3))\n",
        "print(matriz)"
      ],
      "metadata": {
        "colab": {
          "base_uri": "https://localhost:8080/"
        },
        "id": "1UyhYGK1Xpje",
        "outputId": "8f1a38e0-804e-4e20-d88b-11c917a6a417"
      },
      "execution_count": 20,
      "outputs": [
        {
          "output_type": "stream",
          "name": "stdout",
          "text": [
            "[[8.20470795 7.23691894 9.75124255]\n",
            " [9.5751132  9.46211879 7.340368  ]\n",
            " [6.37264459 6.41778554 9.58782137]\n",
            " [5.32509172 6.19011303 9.26647749]\n",
            " [5.04541133 5.39125495 5.3098916 ]]\n"
          ]
        }
      ]
    }
  ]
}